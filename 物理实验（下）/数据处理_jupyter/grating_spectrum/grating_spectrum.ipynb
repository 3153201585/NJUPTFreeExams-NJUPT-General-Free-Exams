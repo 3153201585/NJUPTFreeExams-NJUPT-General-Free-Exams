{
 "cells": [
  {
   "cell_type": "markdown",
   "metadata": {},
   "source": [
    "## 关于这个笔记本\n",
    "\n",
    "该笔记本由 B220400 班某咸鱼创建，用于自动化处理“原子光谱的定性研究”（实际上是 P84 2.10.4 用分光计研究光栅光谱）实验的数据。\n",
    "\n",
    "数据请填入 `he.csv` 和 `hg.csv`。\n",
    "\n",
    "注：该表格将一个角度数值分为两列以方便填入。例如，对于 $250\\degree30'$ 这样一个角度数据，第一列填入 `250`，第二列填入 `30`，笔记本会自动生成最终的角度数据 `250.5`。"
   ]
  },
  {
   "cell_type": "code",
   "execution_count": null,
   "metadata": {},
   "outputs": [],
   "source": [
    "HE_DATA_FILE = 'he.csv'\n",
    "HG_DATA_FILE = 'hg.csv'"
   ]
  },
  {
   "cell_type": "code",
   "execution_count": null,
   "metadata": {},
   "outputs": [],
   "source": [
    "import numpy as np\n",
    "import pandas as pd\n",
    "import matplotlib.pyplot as plt\n",
    "import seaborn as sns\n",
    "%matplotlib inline"
   ]
  },
  {
   "cell_type": "markdown",
   "metadata": {},
   "source": [
    "## He"
   ]
  },
  {
   "cell_type": "code",
   "execution_count": null,
   "metadata": {},
   "outputs": [],
   "source": [
    "he_useful_features = ['Color', '$\\\\lambda$', '$\\\\theta_l$', '$\\\\theta_r$', '$\\\\theta\\'_l$', '$\\\\theta\\'_r$', '$\\\\theta$', '$\\\\sin{\\\\theta}$']\n",
    "\n",
    "he_data = pd.read_csv(HE_DATA_FILE)\n",
    "\n",
    "he_data['$\\\\theta_l$'] = he_data['$\\\\theta_l(\\degree)$'] + he_data['$\\\\theta_l(\\')$'] / 60\n",
    "he_data['$\\\\theta_r$'] = he_data['$\\\\theta_r(\\degree)$'] + he_data['$\\\\theta_r(\\')$'] / 60\n",
    "he_data['$\\\\theta\\'_l$'] = he_data['$\\\\theta\\'_l(\\degree)$'] + he_data['$\\\\theta\\'_l(\\')$'] / 60\n",
    "he_data['$\\\\theta\\'_r$'] = he_data['$\\\\theta\\'_r(\\degree)$'] + he_data['$\\\\theta\\'_r(\\')$'] / 60\n",
    "\n",
    "he_data['$\\\\theta$'] = (np.abs(he_data['$\\\\theta\\'_l$']-he_data['$\\\\theta_l$']) + np.abs(he_data['$\\\\theta\\'_r$']-he_data['$\\\\theta_r$'])) / 4\n",
    "he_data['$\\\\sin{\\\\theta}$'] = np.sin(he_data['$\\\\theta$']*np.pi/180)\n",
    "\n",
    "he_data[he_useful_features]"
   ]
  },
  {
   "cell_type": "code",
   "execution_count": null,
   "metadata": {},
   "outputs": [],
   "source": [
    "X = np.array(he_data['$\\\\sin{\\\\theta}$'])[:, np.newaxis]\n",
    "y = np.array(he_data['$\\\\lambda$'])\n",
    "\n",
    "from sklearn.linear_model import LinearRegression\n",
    "model = LinearRegression()\n",
    "model.fit(X, y)\n",
    "\n",
    "prediction_line_label = f'$\\\\lambda={float(model.coef_)}' + '\\\\sin{\\\\theta}$' # + f'+{float(model.intercept_)}'\n",
    "lambda_sin_theta_plot = sns.regplot(x = X, y=y, ci=None, line_kws={'label':prediction_line_label})\n",
    "lambda_sin_theta_plot.set_title('Figure  $\\\\lambda-\\\\sin{\\\\theta}$')\n",
    "lambda_sin_theta_plot.set_xlabel('$\\\\sin{\\\\theta}$')\n",
    "lambda_sin_theta_plot.set_ylabel('$\\\\lambda/(nm)$')\n",
    "lambda_sin_theta_plot.legend()"
   ]
  },
  {
   "cell_type": "code",
   "execution_count": null,
   "metadata": {},
   "outputs": [],
   "source": [
    "grating_constant_d = float(model.coef_)\n",
    "print(f'd = {grating_constant_d}')"
   ]
  },
  {
   "cell_type": "markdown",
   "metadata": {},
   "source": [
    "## Hg"
   ]
  },
  {
   "cell_type": "code",
   "execution_count": null,
   "metadata": {},
   "outputs": [],
   "source": [
    "hg_useful_features = ['Color', '$\\\\lambda$', '$\\\\theta_l$', '$\\\\theta_r$', '$\\\\theta\\'_l$', '$\\\\theta\\'_r$', '$\\\\theta$', '$\\\\sin{\\\\theta}$', '$\\\\lambda_{o}$', '$\\\\eta$']\n",
    "\n",
    "hg_data = pd.read_csv(HG_DATA_FILE)\n",
    "\n",
    "hg_data['$\\\\theta_l$'] = hg_data['$\\\\theta_l(\\degree)$'] + hg_data['$\\\\theta_l(\\')$'] / 60\n",
    "hg_data['$\\\\theta_r$'] = hg_data['$\\\\theta_r(\\degree)$'] + hg_data['$\\\\theta_r(\\')$'] / 60\n",
    "hg_data['$\\\\theta\\'_l$'] = hg_data['$\\\\theta\\'_l(\\degree)$'] + hg_data['$\\\\theta\\'_l(\\')$'] / 60\n",
    "hg_data['$\\\\theta\\'_r$'] = hg_data['$\\\\theta\\'_r(\\degree)$'] + hg_data['$\\\\theta\\'_r(\\')$'] / 60\n",
    "\n",
    "hg_data['$\\\\theta$'] = (np.abs(hg_data['$\\\\theta\\'_l$']-hg_data['$\\\\theta_l$']) + np.abs(hg_data['$\\\\theta\\'_r$']-hg_data['$\\\\theta_r$'])) / 4\n",
    "hg_data['$\\\\sin{\\\\theta}$'] = np.sin(hg_data['$\\\\theta$']*np.pi/180)\n",
    "hg_data['$\\\\lambda_{o}$'] = hg_data['$\\\\sin{\\\\theta}$'] * grating_constant_d\n",
    "hg_data['$\\\\eta$'] = np.abs(hg_data['$\\\\lambda_{o}$'] - hg_data['$\\\\lambda$']) / hg_data['$\\\\lambda$'] * 100\n",
    "\n",
    "hg_data[hg_useful_features]"
   ]
  }
 ],
 "metadata": {
  "kernelspec": {
   "display_name": "Python 3 (ipykernel)",
   "language": "python",
   "name": "python3"
  },
  "language_info": {
   "codemirror_mode": {
    "name": "ipython",
    "version": 3
   },
   "file_extension": ".py",
   "mimetype": "text/x-python",
   "name": "python",
   "nbconvert_exporter": "python",
   "pygments_lexer": "ipython3",
   "version": "3.11.2"
  }
 },
 "nbformat": 4,
 "nbformat_minor": 4
}
